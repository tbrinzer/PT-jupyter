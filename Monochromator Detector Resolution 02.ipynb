{
 "cells": [
  {
   "cell_type": "code",
   "execution_count": 1,
   "metadata": {
    "scrolled": true
   },
   "outputs": [
    {
     "name": "stdout",
     "output_type": "stream",
     "text": [
      "MONOCHROMATORS\n",
      "          Name  f (mm)  Inclusion Angle (degrees)\n",
      "0      MicroHR   140.0                     37.080\n",
      "1       iHR320   320.0                     21.260\n",
      "2       iHR550   550.0                     12.996\n",
      "3       SP2150   150.0                     49.320\n",
      "4       SP2300   300.0                     30.300\n",
      "5       SP2500   500.0                     17.180\n",
      "6  IsoPlane320   320.0                     17.800\n",
      "7       HRS300   300.0                     32.700\n",
      "\n",
      "\n",
      "DETECTORS\n",
      "         Name  Pitch (µm)  Pixels\n",
      "0        IRSD       250.0      64\n",
      "1          PT        40.0     128\n",
      "2      e2VEM4        14.0    1024\n",
      "3     e2vOcto        10.0    2048\n",
      "4  JackHammer       250.0      64\n"
     ]
    }
   ],
   "source": [
    "import mono_det_res_backend as mdrp\n",
    "\n",
    "# data import\n",
    "monos = mdrp.pd.read_csv(\"_monos.csv\")\n",
    "dets = mdrp.pd.read_csv(\"_dets.csv\")\n",
    "print(\"MONOCHROMATORS\")\n",
    "print(monos)\n",
    "print(\"\\n\\nDETECTORS\")\n",
    "print(dets)"
   ]
  },
  {
   "cell_type": "markdown",
   "metadata": {},
   "source": [
    "![Diffraction at a grating](./grating_pic.svg)\n",
    "\n",
    "Light enters the spectrograph and is directed to a grating, which then disperses it onto an array detector. The required angle of incidence $\\alpha$ of the grating depends on the inclusion angle $\\theta_{\\mathrm{inc}}$ and the dispersion of the grating $D$.\n",
    "\n",
    "\\begin{equation}\n",
    "\\alpha = \\sin^{-1} \\Bigg(  \\frac{\\lambda D}{2 \\cos{\\Big(\\frac{\\theta_{\\mathrm{inc}}}{2}\\Big)}} \\Bigg) - \\frac{\\theta_{\\mathrm{inc}}}{2}\n",
    "\\end{equation}\n",
    "\n",
    "For a given angle of incidence $\\alpha$, the (center) diffraction angle $\\beta$ depends on the wavelength of light $\\lambda$ and the dispersion of the grating $D$.\n",
    "\n",
    "\\begin{equation}\n",
    "\\beta = \\sin^{-1} \\big(\\lambda D - \\sin{\\alpha}\\big)\n",
    "\\end{equation}\n",
    "\n",
    "The x-position of each pixel on the detector ($\\vec{x}$) depends on the pitch of the detector and the number of pixels. We define the position of the center of the detector as $x = 0$.\n",
    "\n",
    "\\begin{equation}\n",
    "\\vec{x} = \\mathrm{pixel~pitch} \\cdot \\Bigg(\n",
    "\\begin{bmatrix}\n",
    "0 \\\\\n",
    "1 \\\\\n",
    "... \\\\\n",
    "n_\\mathrm{px} - 1\n",
    "\\end{bmatrix} - \\frac{n_{\\mathrm{px}} - 1}{2} \\Bigg)\n",
    "\\end{equation}\n",
    "\n",
    "where $n_{\\mathrm{px}}$ is the total number of pixels horizontally on the detector chip. With this definition of $\\vec{x}$, the set of diffraction angles for each pixel $\\vec{\\beta}$ can be calculated from the central diffraction angle $\\beta$, the focal length $f$, and the $\\vec{x}$:\n",
    "\n",
    "\\begin{equation}\n",
    "\\vec{\\beta} = \\beta + tan^{-1}\\Big(\\frac{\\vec{x}}{f}\\Big)\n",
    "\\end{equation}\n",
    "\n",
    "The range of diffraction angles, together with the angle of incident $\\alpha$ and the dispersion of the grating $D$, then constrains the central wavelength striking each pixel $\\vec{\\lambda}$. This can easily be converted to wavenumbers by taking the inverse of the wavelengths.\n",
    "\n",
    "\\begin{equation}\n",
    "\\vec{\\lambda}_{\\mathrm{px}} = \\frac{1}{D} \\big( \\sin{\\vec{\\beta}} + \\sin{\\alpha} \\big)\n",
    "\\end{equation}\n",
    "\n",
    "\\begin{equation}\n",
    "\\tilde{\\nu_i} = \\big( \\lambda_i \\big)^{-1}\n",
    "\\end{equation}\n",
    "\n",
    "Other equations of interest include the formulas for linear dispersion ($\\mathrm{LD}$), the pixel spacing in wavelength or wavenumbers ($\\Delta \\lambda / \\Delta x$ and $\\Delta \\tilde{\\nu} / \\Delta x$), and the wavelength or wavenumber range of the detector ($\\Delta \\lambda$ or $\\Delta \\tilde{\\nu}$),\n",
    "\n",
    "\\begin{equation}\n",
    "\\mathrm{LD} = \\frac{\\cos {\\beta}}{D f}\n",
    "\\end{equation}\n",
    "\n",
    "\\begin{equation}\n",
    "\\frac{\\Delta \\lambda}{\\Delta x} = \\lambda_{n/2 - 1} - \\lambda_{n/2}\n",
    "\\end{equation}\n",
    "\n",
    "\\begin{equation}\n",
    "\\frac{\\Delta \\tilde{\\nu}}{\\Delta x} = \\frac{1}{\\lambda_{n/2}} - \\frac{1}{\\lambda_{n/2 - 1}}\n",
    "\\end{equation}\n",
    "\n",
    "\\begin{equation}\n",
    "\\Delta \\lambda = \\lambda_0 - \\lambda_n\n",
    "\\end{equation}\n",
    "\n",
    "\\begin{equation}\n",
    "\\Delta \\tilde{\\nu} = \\frac{1}{\\lambda_n} - \\frac{1}{\\lambda_0}\n",
    "\\end{equation}"
   ]
  },
  {
   "cell_type": "code",
   "execution_count": 2,
   "metadata": {},
   "outputs": [
    {
     "name": "stdout",
     "output_type": "stream",
     "text": [
      "Monochromator name options: ['MicroHR', 'iHR320', 'iHR550', 'SP2150', 'SP2300', 'SP2500', 'IsoPlane320', 'HRS300']\n",
      "Detector name options: ['IRSD', 'PT', 'e2VEM4', 'e2vOcto', 'JackHammer']\n"
     ]
    }
   ],
   "source": [
    "# Just so you don't have to scroll back up\n",
    "\n",
    "print(f\"Monochromator name options: {monos['Name'].to_list()}\")\n",
    "print(f\"Detector name options: {dets['Name'].to_list()}\")"
   ]
  },
  {
   "cell_type": "code",
   "execution_count": 5,
   "metadata": {},
   "outputs": [
    {
     "name": "stdout",
     "output_type": "stream",
     "text": [
      "f = 320.0 mm\n",
      "Inclusion Angle = 21.3°\n",
      "Pitch = 40.0 µm\n",
      "Number of pixels = 128\n",
      "Grating dispersion = 150 per mm\n",
      "Center wavelength = 4250.0 nm\n",
      "\n",
      "\n",
      "alpha = 8.29412°\n",
      "beta = 29.55412°\n",
      "position minimum = -2.540 mm\n",
      "position maximum = 2.540 mm\n",
      "linear dispersion = 18.12 nm/mm\n",
      "\n",
      "\n",
      "Wavelength (nm)\n",
      "===============\n",
      "pixel spacing = 0.72 nm\n",
      "spectral window = 92.06 nm\n",
      "min = 4203.87 nm\n",
      "max = 4295.93 nm\n",
      "\n",
      "\n",
      "Wavenumbers (cm-1)\n",
      "==================\n",
      "pixel spacing = 0.40 cm-1\n",
      "spectral window = 50.98 cm-1\n",
      "                  1.528 THz\n",
      "min = 2327.79 cm-1\n",
      "max = 2378.76 cm-1\n"
     ]
    }
   ],
   "source": [
    "f, theta = mdrp.chooseMono(monos, \"iHR320\")\n",
    "pitch, n_px = mdrp.chooseDet(dets, \"PT\")\n",
    "\n",
    "D = 150 # Grating dispersion, mm-1\n",
    "lambda_nm = 4250 # center wavelength, nm\n",
    "\n",
    "# OPTIONAL REDEFINITION OF PARAMETERS FROM MONO AND DETECTOR\n",
    "# f = 500.0 # mm\n",
    "# theta = 49.32 # deg\n",
    "# pitch = 250.0 # microns\n",
    "# n_px = 64 # number of pixels\n",
    "\n",
    "# calculations\n",
    "\n",
    "mdrp.calcResults(f, theta, pitch, n_px, D, lambda_nm)"
   ]
  }
 ],
 "metadata": {
  "kernelspec": {
   "display_name": "Python 3",
   "language": "python",
   "name": "python3"
  },
  "language_info": {
   "codemirror_mode": {
    "name": "ipython",
    "version": 3
   },
   "file_extension": ".py",
   "mimetype": "text/x-python",
   "name": "python",
   "nbconvert_exporter": "python",
   "pygments_lexer": "ipython3",
   "version": "3.7.9"
  }
 },
 "nbformat": 4,
 "nbformat_minor": 4
}
